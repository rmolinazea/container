{
 "cells": [
  {
   "cell_type": "code",
   "execution_count": null,
   "id": "fd10c38e",
   "metadata": {},
   "outputs": [],
   "source": []
  },
  {
   "cell_type": "code",
   "execution_count": 2,
   "id": "e6984fd2",
   "metadata": {},
   "outputs": [
    {
     "data": {
      "text/plain": [
       "array([[0, 0],\n",
       "       [0, 1],\n",
       "       [1, 1],\n",
       "       [1, 0]])"
      ]
     },
     "execution_count": 2,
     "metadata": {},
     "output_type": "execute_result"
    }
   ],
   "source": [
    "import numpy as np\n",
    "#assign the input values\n",
    "input_value = np.array([[0,0],[0,1],[1,1],[1,0]])\n",
    "input_value.shape\n",
    "input_value"
   ]
  },
  {
   "cell_type": "code",
   "execution_count": null,
   "id": "6d4bb0e1",
   "metadata": {},
   "outputs": [],
   "source": [
    "#assign the output values"
   ]
  },
  {
   "cell_type": "code",
   "execution_count": 3,
   "id": "1b4503ef",
   "metadata": {},
   "outputs": [
    {
     "data": {
      "text/plain": [
       "(4, 1)"
      ]
     },
     "execution_count": 3,
     "metadata": {},
     "output_type": "execute_result"
    }
   ],
   "source": [
    "output = np.array([0,1,1,0])\n",
    "output = output.reshape(4,1)\n",
    "output.shape"
   ]
  },
  {
   "cell_type": "code",
   "execution_count": null,
   "id": "7d452129",
   "metadata": {},
   "outputs": [],
   "source": [
    "#assign our weights"
   ]
  },
  {
   "cell_type": "code",
   "execution_count": 4,
   "id": "449541e6",
   "metadata": {},
   "outputs": [
    {
     "data": {
      "text/plain": [
       "array([[0.1],\n",
       "       [0.2]])"
      ]
     },
     "execution_count": 4,
     "metadata": {},
     "output_type": "execute_result"
    }
   ],
   "source": [
    "weights = np.array([[0.1],[0.2]])\n",
    "weights"
   ]
  },
  {
   "cell_type": "code",
   "execution_count": null,
   "id": "ef69cecd",
   "metadata": {},
   "outputs": [],
   "source": [
    "#now the bias(which is a constant)"
   ]
  },
  {
   "cell_type": "code",
   "execution_count": 5,
   "id": "b4384c14",
   "metadata": {},
   "outputs": [],
   "source": [
    "bias = 0.3"
   ]
  },
  {
   "cell_type": "code",
   "execution_count": 6,
   "id": "7f2e32dd",
   "metadata": {},
   "outputs": [],
   "source": [
    "#need an activation function(here we use sigmoid function)"
   ]
  },
  {
   "cell_type": "code",
   "execution_count": 7,
   "id": "812d0f96",
   "metadata": {},
   "outputs": [],
   "source": [
    "def sigmoid_func(x):\n",
    "    return 1/(1+ np.exp(-x))"
   ]
  },
  {
   "cell_type": "code",
   "execution_count": 8,
   "id": "d0e743c6",
   "metadata": {},
   "outputs": [],
   "source": [
    "#derivative of the sigmoid function"
   ]
  },
  {
   "cell_type": "code",
   "execution_count": 9,
   "id": "4b803b47",
   "metadata": {},
   "outputs": [],
   "source": [
    "def der(x):\n",
    "    return sigmoid_func(x)*(1-sigmoid_func(x))"
   ]
  },
  {
   "cell_type": "code",
   "execution_count": 10,
   "id": "9fe39542",
   "metadata": {},
   "outputs": [],
   "source": [
    "#training/ updating our weights"
   ]
  },
  {
   "cell_type": "code",
   "execution_count": 11,
   "id": "5652892c",
   "metadata": {},
   "outputs": [
    {
     "name": "stdout",
     "output_type": "stream",
     "text": [
      "[[-4.02755172]\n",
      " [ 7.64343377]]\n",
      "[0.29328441]\n"
     ]
    }
   ],
   "source": [
    "for epochs in range(10000):\n",
    "    input_arr = input_value\n",
    "    bias = 0.3\n",
    "    weighted_sum =np.dot(input_arr, weights) + bias\n",
    "    first_output = sigmoid_func(weighted_sum)\n",
    "    \n",
    "    error = first_output - output\n",
    "    total_error = np.square(np.subtract(first_output, output)).mean()\n",
    "    #print(total_error) If you print this we get a long list of error calulations \n",
    "    \n",
    "    first_der = error\n",
    "    second_der = der(first_output)\n",
    "    derivative = first_der*second_der\n",
    "    \n",
    "    t_input = input_value.T\n",
    "    final_derivative = np.dot(t_input,derivative)\n",
    "    \n",
    "    #UPDATE our weights\n",
    "    weights = weights - 0.05 *final_derivative\n",
    "    \n",
    "    #update the bias\n",
    "    for i in derivative:\n",
    "            bias = bias-0.05*i\n",
    "            \n",
    "print(weights)#in array brackets\n",
    "print(bias)"
   ]
  },
  {
   "cell_type": "code",
   "execution_count": 13,
   "id": "4dd6c10b",
   "metadata": {},
   "outputs": [
    {
     "name": "stdout",
     "output_type": "stream",
     "text": [
      "[0.99964275]\n",
      "[0.02333322]\n"
     ]
    }
   ],
   "source": [
    "#predictions\n",
    "pred = np.array([0,1])\n",
    "#^ the output for this input should be 1, so the output(the print statement) should be close to 1.\n",
    "result = np.dot(pred, weights)+bias\n",
    "\n",
    "pred2 = np.array([1,0])\n",
    "result2 = np.dot(pred2, weights)+bias\n",
    "\n",
    "res = sigmoid_func(result)\n",
    "res2 = sigmoid_func(result2)\n",
    "print(res)\n",
    "print(res2)"
   ]
  },
  {
   "cell_type": "code",
   "execution_count": null,
   "id": "6a9783c8",
   "metadata": {},
   "outputs": [],
   "source": []
  }
 ],
 "metadata": {
  "kernelspec": {
   "display_name": "Python 3 (ipykernel)",
   "language": "python",
   "name": "python3"
  },
  "language_info": {
   "codemirror_mode": {
    "name": "ipython",
    "version": 3
   },
   "file_extension": ".py",
   "mimetype": "text/x-python",
   "name": "python",
   "nbconvert_exporter": "python",
   "pygments_lexer": "ipython3",
   "version": "3.9.12"
  }
 },
 "nbformat": 4,
 "nbformat_minor": 5
}
