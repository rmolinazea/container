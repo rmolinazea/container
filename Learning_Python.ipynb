{
 "cells": [
  {
   "cell_type": "code",
   "execution_count": 1,
   "id": "d8b85fbd",
   "metadata": {},
   "outputs": [
    {
     "name": "stdout",
     "output_type": "stream",
     "text": [
      "hello world!\n"
     ]
    }
   ],
   "source": [
    "# print(\"hello world!\")\n",
    "# #inside the () is a string, you can use \"\" or ''"
   ]
  },
  {
   "cell_type": "code",
   "execution_count": null,
   "id": "fb96ff92",
   "metadata": {},
   "outputs": [],
   "source": [
    "#make sure to stop manueally each block at the top"
   ]
  },
  {
   "cell_type": "code",
   "execution_count": null,
   "id": "8f19e0b9",
   "metadata": {},
   "outputs": [],
   "source": [
    "# #variable are declared as such: variable name = the data held\n",
    "# #to print a variable no quotes around its name\n",
    "# age = 21\n",
    "# print(age)\n",
    "# #you can change variable data by \"re-declaring\" it \n",
    "# age = 25\n",
    "# print(age)\n",
    "# name2 = \"Tom\"#can use single of double quotes\n",
    "# print(name2)\n",
    "# #boolean variables are declared with capital T or F and the rest of the word. Booleans are case-sensitive\n",
    "# is_on = True\n",
    "# print(is_on)\n",
    "# is_on = False\n",
    "# print(is_on)"
   ]
  },
  {
   "cell_type": "code",
   "execution_count": 8,
   "id": "5d7b28b5",
   "metadata": {},
   "outputs": [
    {
     "name": "stdout",
     "output_type": "stream",
     "text": [
      "Smith John True 20 new\n"
     ]
    }
   ],
   "source": [
    "# #exercise- Hospital\n",
    "# patient_name = \"John Smith\"\n",
    "# patient_firstName = \"John\"\n",
    "# patient_lastName = \"Smith\"\n",
    "# checked_in = True\n",
    "# patient_age = 20\n",
    "# patient_status = \"New\"\n",
    "\n",
    "# print(patient_lastName, patient_firstName, check_in, patient_age, patient_status)\n",
    "\n"
   ]
  },
  {
   "cell_type": "code",
   "execution_count": 11,
   "id": "2e7af19c",
   "metadata": {},
   "outputs": [
    {
     "name": "stdout",
     "output_type": "stream",
     "text": [
      "what is your name? stacey\n",
      "Hello stacey\n"
     ]
    }
   ],
   "source": [
    "#you can make ppl type an input using input(). Don't forget to add a space right before the last quote.\n",
    "# input(\"what is your name? \")\n",
    "#if you want to store the user input, make the input() a variable\n",
    "name = input(\"what is your name? \")\n",
    "print(\"Hello \" + name)"
   ]
  },
  {
   "cell_type": "code",
   "execution_count": 15,
   "id": "cbadeb41",
   "metadata": {},
   "outputs": [
    {
     "name": "stdout",
     "output_type": "stream",
     "text": [
      "Enter your birthyear: 2001\n",
      "21\n"
     ]
    }
   ],
   "source": [
    "#if we want to convert variable data types\n",
    "birth_year = input(\"Enter your birthyear: \")\n",
    "# we can use int() to convert a string to an integer \n",
    "age = 2022 - int(birth_year)\n",
    "print(age)\n",
    "#float() = converts to a number to a floating point number\n",
    "#int()\n",
    "#bool() = conversts a value to a boolean\n",
    "#str() = converts to a string"
   ]
  },
  {
   "cell_type": "code",
   "execution_count": 19,
   "id": "0d54ce5f",
   "metadata": {},
   "outputs": [
    {
     "name": "stdout",
     "output_type": "stream",
     "text": [
      "First number: 10\n",
      "Second number: 250\n",
      "Sum 260.0\n"
     ]
    }
   ],
   "source": [
    "#exercise 2, user calculator\n",
    "first_number = input(\"First number: \")\n",
    "second_number = input(\"Second number: \")\n",
    "\n",
    "total = float(first_number) + float(second_number)\n",
    "print(\"Sum \"+ str(total))"
   ]
  },
  {
   "cell_type": "code",
   "execution_count": 26,
   "id": "b6c9fc4e",
   "metadata": {},
   "outputs": [
    {
     "name": "stdout",
     "output_type": "stream",
     "text": [
      "LEARNING PYTHON\n",
      "learning python\n",
      "True\n"
     ]
    },
    {
     "data": {
      "text/plain": [
       "'Learning Java'"
      ]
     },
     "execution_count": 26,
     "metadata": {},
     "output_type": "execute_result"
    }
   ],
   "source": [
    "#string manipulation/ learning about objects and methods\n",
    "course = \"Learning Python\"\n",
    "print(course.upper())\n",
    "print(course.lower())\n",
    "#the .upper() method makes all characters in the string capitals, the .lower() makes them lower case\n",
    "\n",
    "course.find('n')\n",
    "#.find() find the first occurence of what you are \"searching\" for, and returns the index(this is lower/upper case sensitive)\n",
    "\n",
    "course.find('Python')\n",
    "#returns the index of the word\n",
    "#can also use:\n",
    "# print(\"Python\" in course)\n",
    "course.replace('Python', 'Java')\n",
    "#(word to be replaced, its replacement)\n",
    "\n",
    "\n"
   ]
  },
  {
   "cell_type": "code",
   "execution_count": 4,
   "id": "e989a519",
   "metadata": {},
   "outputs": [
    {
     "name": "stdout",
     "output_type": "stream",
     "text": [
      "3.3333333333333335\n",
      "3\n",
      "1\n",
      "16\n"
     ]
    }
   ],
   "source": [
    "#arithmetic operators\n",
    "#we have all the basics, like addition(+), subtraction(-), multiplication(*) and division(/) but we have 2 types\n",
    "print(10/3)\n",
    "#^ results in a floating point number\n",
    "print(10//3)\n",
    "#^ results in a rounded number\n",
    "#we also have modulo\n",
    "print(10%3)\n",
    "#exponents are indicated by 2 **\n",
    "print(4**2)"
   ]
  },
  {
   "cell_type": "code",
   "execution_count": 5,
   "id": "a8b40fbb",
   "metadata": {},
   "outputs": [
    {
     "name": "stdout",
     "output_type": "stream",
     "text": [
      "16\n"
     ]
    }
   ],
   "source": [
    "#operations precedent, python follows PEMDAS\n",
    "print(10+3*2)\n",
    "#the outoput can be adjusted using parenthesis"
   ]
  },
  {
   "cell_type": "code",
   "execution_count": 6,
   "id": "8f1809c6",
   "metadata": {},
   "outputs": [],
   "source": [
    "#comparison operators\n",
    "#< <= > >= == !="
   ]
  },
  {
   "cell_type": "code",
   "execution_count": 9,
   "id": "6b76550e",
   "metadata": {},
   "outputs": [
    {
     "name": "stdout",
     "output_type": "stream",
     "text": [
      "True\n",
      "True\n",
      "True\n"
     ]
    }
   ],
   "source": [
    "#logical operators\n",
    "price = 25\n",
    "print(price > 10 and price < 30)#if both true \n",
    "price = 5\n",
    "print(price > 10 or price < 30)#if atleast one true\n",
    "#logical not operator\n",
    "print(not price > 10)#inverses"
   ]
  },
  {
   "cell_type": "code",
   "execution_count": 10,
   "id": "403d00d1",
   "metadata": {},
   "outputs": [
    {
     "name": "stdout",
     "output_type": "stream",
     "text": [
      "It's a hotday\n",
      "drink plenty of water\n"
     ]
    }
   ],
   "source": [
    "#if statements\n",
    "temperature = 35\n",
    "if temperature > 30:\n",
    "    #this indentation represents the code that will run if the if statement is true\n",
    "    print(\"It's a hotday\")\n",
    "    print(\"drink plenty of water\")\n",
    "    #to terminate your block(the if statement), enter then shift+tab\n",
    "elif temperature > 20:#else statment\n",
    "    print(\"It's a nice day\") \n",
    "elif temperature > 10:\n",
    "    print(\"It's a bit cold\")\n",
    "else:\n",
    "    prints(\"Its cold\")"
   ]
  },
  {
   "cell_type": "code",
   "execution_count": 22,
   "id": "f9cd06bf",
   "metadata": {},
   "outputs": [
    {
     "name": "stdout",
     "output_type": "stream",
     "text": [
      "Weight: 170\n",
      "K(g) or (L)bs: l\n",
      "Weight in Kg: 76.5\n"
     ]
    }
   ],
   "source": [
    "weight = input(\"Weight: \")\n",
    "# print(\"K(g) or (L)bs: \")\n",
    "unit = input(\"K(g) or (L)bs: \")\n",
    "#is the weight in pounds or kilos\n",
    "if unit == \"l\" or unit == \"L\":\n",
    "    #pounds to kilos\n",
    "   new_kg = float(weight) * 0.45\n",
    "   print(\"Weight in Kg: \" + str(new_kg))\n",
    "elif unit == \"k\" or unit ==\"K\":\n",
    "    #kilos to pounds\n",
    "    new_lbs = float(weight) * 2.21\n",
    "    print(str(new_lbs))\n",
    "\n"
   ]
  },
  {
   "cell_type": "code",
   "execution_count": 23,
   "id": "6231bb9d",
   "metadata": {},
   "outputs": [
    {
     "name": "stdout",
     "output_type": "stream",
     "text": [
      "1\n",
      "2\n",
      "3\n",
      "4\n",
      "5\n"
     ]
    }
   ],
   "source": [
    "#while loops\n",
    "i = 1\n",
    "while i <= 5:\n",
    "    print(i)\n",
    "    i+=1"
   ]
  },
  {
   "cell_type": "code",
   "execution_count": 4,
   "id": "342adbd1",
   "metadata": {},
   "outputs": [
    {
     "name": "stdout",
     "output_type": "stream",
     "text": [
      "['john', 'sue', 'mary', 'amy', 'bob', 'tom']\n",
      "john\n",
      "tom\n",
      "['john', 'sue', 'mary']\n"
     ]
    }
   ],
   "source": [
    "#Lists, python doesnt have built in arrays so we use lists instead\n",
    "names = ['john', 'sue', 'mary', 'amy', 'bob', 'tom'];\n",
    "print(names)\n",
    "print(names[0])\n",
    "#-1 represents the last element\n",
    "print(names[-1])\n",
    "#counting from front to back is 0,1,2,...,n. Counting end to start is -1,-2,-3,...,-n\n",
    "#to print from a start(inclusive) to an end point(exculsive)\n",
    "print(names[0:3])"
   ]
  },
  {
   "cell_type": "code",
   "execution_count": 10,
   "id": "4bec4941",
   "metadata": {},
   "outputs": [
    {
     "name": "stdout",
     "output_type": "stream",
     "text": [
      "[1, 2, 3, 4, 5]\n",
      "[1, 2, 3, 4, 5, 6]\n",
      "[1, 2, 3, 4, 5]\n",
      "[]\n"
     ]
    }
   ],
   "source": [
    "#list methods\n",
    "nums = [1,2,3,4,5];\n",
    "print(nums)\n",
    "#(index value, the thing added)\n",
    "nums.insert(5,6)\n",
    "print(nums)\n",
    "#remove an element\n",
    "nums.remove(6)\n",
    "print(nums)\n",
    "\n",
    "#remove/clear whole list\n",
    "nums.clear()\n",
    "print(nums)"
   ]
  },
  {
   "cell_type": "code",
   "execution_count": null,
   "id": "a0b9c750",
   "metadata": {},
   "outputs": [],
   "source": []
  }
 ],
 "metadata": {
  "kernelspec": {
   "display_name": "Python 3 (ipykernel)",
   "language": "python",
   "name": "python3"
  },
  "language_info": {
   "codemirror_mode": {
    "name": "ipython",
    "version": 3
   },
   "file_extension": ".py",
   "mimetype": "text/x-python",
   "name": "python",
   "nbconvert_exporter": "python",
   "pygments_lexer": "ipython3",
   "version": "3.9.12"
  }
 },
 "nbformat": 4,
 "nbformat_minor": 5
}
